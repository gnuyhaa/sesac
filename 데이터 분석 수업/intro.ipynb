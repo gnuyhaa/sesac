{
 "cells": [
  {
   "cell_type": "code",
   "execution_count": 1,
   "metadata": {},
   "outputs": [],
   "source": [
    "# 숫자 1, 2, 3, 4, 5가 저장된 리스트를 생성하세요.\n",
    "# 해당 리스트의 마지막 원소(요소, 값)을 출력하세요"
   ]
  },
  {
   "cell_type": "code",
   "execution_count": 3,
   "metadata": {},
   "outputs": [
    {
     "name": "stdout",
     "output_type": "stream",
     "text": [
      "5\n"
     ]
    }
   ],
   "source": [
    "num = [1, 2, 3, 4, 5]\n",
    "print(num[-1])"
   ]
  },
  {
   "cell_type": "code",
   "execution_count": 4,
   "metadata": {},
   "outputs": [
    {
     "name": "stdout",
     "output_type": "stream",
     "text": [
      "1\n"
     ]
    }
   ],
   "source": [
    "print(num[0])"
   ]
  },
  {
   "cell_type": "code",
   "execution_count": 6,
   "metadata": {},
   "outputs": [
    {
     "data": {
      "text/plain": [
       "[1, 2, 3, 4, 0]"
      ]
     },
     "execution_count": 6,
     "metadata": {},
     "output_type": "execute_result"
    }
   ],
   "source": [
    "num[-1] = 0\n",
    "num"
   ]
  },
  {
   "cell_type": "code",
   "execution_count": 1,
   "metadata": {},
   "outputs": [],
   "source": [
    "import ctypes\n",
    "\n",
    "# Windows API를 사용하기 위해 필요한 설정\n",
    "kernel32 = ctypes.windll.kernel32\n",
    "hConsole = kernel32.GetStdHandle(-11)  # STD_OUTPUT_HANDLE = -11\n",
    "\n",
    "\n",
    "text = \"Hello World\\n\"  # 출력 텍스트\n",
    "text_buffer = ctypes.create_unicode_buffer(text)\n",
    "length = len(text)  # 텍스트 길이 (문자 수)\n",
    "\n",
    "# WriteConsoleW API를 호출하여 텍스트 출력\n",
    "written = ctypes.c_ulong(0)\n",
    "\n",
    "success = kernel32.WriteConsoleW(\n",
    "    hConsole,\n",
    "    text_buffer,  # 출력할 텍스트 버퍼\n",
    "    length,  # 출력할 텍스트 길이\n",
    "    ctypes.byref(written),  # 출력된 문자 수를 저장할 포인터\n",
    "    None,\n",
    ")\n"
   ]
  },
  {
   "cell_type": "code",
   "execution_count": null,
   "metadata": {},
   "outputs": [],
   "source": []
  }
 ],
 "metadata": {
  "kernelspec": {
   "display_name": "Python 3 (ipykernel)",
   "language": "python",
   "name": "python3"
  },
  "language_info": {
   "codemirror_mode": {
    "name": "ipython",
    "version": 3
   },
   "file_extension": ".py",
   "mimetype": "text/x-python",
   "name": "python",
   "nbconvert_exporter": "python",
   "pygments_lexer": "ipython3",
   "version": "3.10.9"
  }
 },
 "nbformat": 4,
 "nbformat_minor": 2
}
