{
 "cells": [
  {
   "cell_type": "code",
   "execution_count": 27,
   "id": "3ef8aece",
   "metadata": {},
   "outputs": [],
   "source": [
    "import pandas as pd\n",
    "import numpy as np\n",
    "\n",
    "# 랜덤 시드 고정\n",
    "# 랜덤 시드 : 난수(랜덤 수)생성기에서 경우의 고정시킬 때 사용\n",
    "np.random.seed(0)\n",
    "\n",
    "num_samples = 1000\n",
    "\n",
    "\n",
    "data = {\n",
    "    \"수입\": np.random.normal(loc=4000, scale=1000, size=num_samples),\n",
    "    \"지출\": np.random.normal(loc=2000, scale=500, size=num_samples),\n",
    "}\n",
    "\n",
    "df = pd.DataFrame(data)\n",
    "\n",
    "# 이상치 추가\n",
    "num_outliers = 100\n",
    "\n",
    "# 수입 열에 대한 이상치 추가\n",
    "df.loc[np.random.choice(df.index, num_outliers), \"수입\"] = (\n",
    "    df[\"수입\"].mean() + 5 * df[\"수입\"].std()\n",
    ")\n",
    "# 지출 열에 대한 이상치 추가\n",
    "df.loc[np.random.choice(df.index, num_outliers), \"지출\"] = (\n",
    "    df[\"지출\"].mean() + 5 * df[\"지출\"].std()\n",
    ")"
   ]
  },
  {
   "cell_type": "code",
   "execution_count": 28,
   "id": "0ecd4288",
   "metadata": {},
   "outputs": [
    {
     "data": {
      "text/html": [
       "<div>\n",
       "<style scoped>\n",
       "    .dataframe tbody tr th:only-of-type {\n",
       "        vertical-align: middle;\n",
       "    }\n",
       "\n",
       "    .dataframe tbody tr th {\n",
       "        vertical-align: top;\n",
       "    }\n",
       "\n",
       "    .dataframe thead th {\n",
       "        text-align: right;\n",
       "    }\n",
       "</style>\n",
       "<table border=\"1\" class=\"dataframe\">\n",
       "  <thead>\n",
       "    <tr style=\"text-align: right;\">\n",
       "      <th></th>\n",
       "      <th>수입</th>\n",
       "      <th>지출</th>\n",
       "    </tr>\n",
       "  </thead>\n",
       "  <tbody>\n",
       "    <tr>\n",
       "      <th>0</th>\n",
       "      <td>5764.052346</td>\n",
       "      <td>2277.981340</td>\n",
       "    </tr>\n",
       "    <tr>\n",
       "      <th>1</th>\n",
       "      <td>4400.157208</td>\n",
       "      <td>2446.236944</td>\n",
       "    </tr>\n",
       "    <tr>\n",
       "      <th>2</th>\n",
       "      <td>4978.737984</td>\n",
       "      <td>1788.842588</td>\n",
       "    </tr>\n",
       "    <tr>\n",
       "      <th>3</th>\n",
       "      <td>6240.893199</td>\n",
       "      <td>2052.357015</td>\n",
       "    </tr>\n",
       "    <tr>\n",
       "      <th>4</th>\n",
       "      <td>5867.557990</td>\n",
       "      <td>2114.026663</td>\n",
       "    </tr>\n",
       "  </tbody>\n",
       "</table>\n",
       "</div>"
      ],
      "text/plain": [
       "            수입           지출\n",
       "0  5764.052346  2277.981340\n",
       "1  4400.157208  2446.236944\n",
       "2  4978.737984  1788.842588\n",
       "3  6240.893199  2052.357015\n",
       "4  5867.557990  2114.026663"
      ]
     },
     "execution_count": 28,
     "metadata": {},
     "output_type": "execute_result"
    }
   ],
   "source": [
    "df.head()"
   ]
  },
  {
   "cell_type": "code",
   "execution_count": 29,
   "id": "7a047a0f",
   "metadata": {},
   "outputs": [
    {
     "data": {
      "text/plain": [
       "1563.9075000925345"
      ]
     },
     "execution_count": 29,
     "metadata": {},
     "output_type": "execute_result"
    }
   ],
   "source": [
    "# \"수입\" 열에 대한 이상치 찾기\n",
    "\n",
    "# 이상치 탐색 열 이름\n",
    "column = \"수입\"\n",
    "\n",
    "# 사분위수 확인\n",
    "# 하위 25% 경계값\n",
    "Q1 = df[column].quantile(0.25)\n",
    "# 하위 75% 경계값 \n",
    "Q3 = df[column].quantile(0.75)\n",
    "IQR = Q3 - Q1\n",
    "IQR"
   ]
  },
  {
   "cell_type": "code",
   "execution_count": 30,
   "id": "cbd0506c",
   "metadata": {},
   "outputs": [],
   "source": [
    "lower_bound = Q1 - 1.5 * IQR # 하한 계산"
   ]
  },
  {
   "cell_type": "code",
   "execution_count": 31,
   "id": "f678a3bc",
   "metadata": {},
   "outputs": [],
   "source": [
    "upper_bound = Q3 + 1.5 * IQR # 상한 계산"
   ]
  },
  {
   "cell_type": "code",
   "execution_count": 32,
   "id": "ecbbf882",
   "metadata": {},
   "outputs": [],
   "source": [
    "# 하한과 상한의 역할\n",
    "# 조건식에서 비교 값\n",
    "# 조건식 (condition) = 비교열, 비교연산자, 비교 값"
   ]
  },
  {
   "cell_type": "code",
   "execution_count": 33,
   "id": "999b215e",
   "metadata": {},
   "outputs": [],
   "source": [
    "lower_bound_filter = df[column] < lower_bound # 하한 조건식 "
   ]
  },
  {
   "cell_type": "code",
   "execution_count": 34,
   "id": "631f0764",
   "metadata": {},
   "outputs": [],
   "source": [
    "upper_bound_filter = df[column] > upper_bound"
   ]
  },
  {
   "cell_type": "code",
   "execution_count": 35,
   "id": "01a9f96f",
   "metadata": {},
   "outputs": [
    {
     "data": {
      "text/plain": [
       "24     8892.378521\n",
       "28     8892.378521\n",
       "30     8892.378521\n",
       "34     8892.378521\n",
       "38     8892.378521\n",
       "          ...     \n",
       "935    8892.378521\n",
       "944    8892.378521\n",
       "946    8892.378521\n",
       "952    8892.378521\n",
       "984    8892.378521\n",
       "Name: 수입, Length: 99, dtype: float64"
      ]
     },
     "execution_count": 35,
     "metadata": {},
     "output_type": "execute_result"
    }
   ],
   "source": [
    "# 이상치 추출\n",
    "outliers = df.loc[lower_bound_filter | upper_bound_filter, column]\n",
    "outliers"
   ]
  },
  {
   "cell_type": "code",
   "execution_count": 36,
   "id": "955fadc8",
   "metadata": {},
   "outputs": [
    {
     "data": {
      "text/plain": [
       "<Axes: >"
      ]
     },
     "execution_count": 36,
     "metadata": {},
     "output_type": "execute_result"
    },
    {
     "name": "stderr",
     "output_type": "stream",
     "text": [
      "C:\\Users\\guddk\\anaconda3\\lib\\site-packages\\IPython\\core\\events.py:89: UserWarning: Glyph 49688 (\\N{HANGUL SYLLABLE SU}) missing from current font.\n",
      "  func(*args, **kwargs)\n",
      "C:\\Users\\guddk\\anaconda3\\lib\\site-packages\\IPython\\core\\events.py:89: UserWarning: Glyph 51077 (\\N{HANGUL SYLLABLE IB}) missing from current font.\n",
      "  func(*args, **kwargs)\n",
      "C:\\Users\\guddk\\anaconda3\\lib\\site-packages\\IPython\\core\\pylabtools.py:152: UserWarning: Glyph 49688 (\\N{HANGUL SYLLABLE SU}) missing from current font.\n",
      "  fig.canvas.print_figure(bytes_io, **kw)\n",
      "C:\\Users\\guddk\\anaconda3\\lib\\site-packages\\IPython\\core\\pylabtools.py:152: UserWarning: Glyph 51077 (\\N{HANGUL SYLLABLE IB}) missing from current font.\n",
      "  fig.canvas.print_figure(bytes_io, **kw)\n"
     ]
    },
    {
     "data": {
      "image/png": "[encoded data removed]",
      "text/plain": [
       "<Figure size 640x480 with 1 Axes>"
      ]
     },
     "metadata": {},
     "output_type": "display_data"
    }
   ],
   "source": [
    "df[\"수입\"].plot.box()"
   ]
  },
  {
   "cell_type": "code",
   "execution_count": 37,
   "id": "48e1fd39",
   "metadata": {},
   "outputs": [
    {
     "data": {
      "text/plain": [
       "<Axes: xlabel='수입', ylabel='지출'>"
      ]
     },
     "execution_count": 37,
     "metadata": {},
     "output_type": "execute_result"
    },
    {
     "name": "stderr",
     "output_type": "stream",
     "text": [
      "C:\\Users\\guddk\\anaconda3\\lib\\site-packages\\IPython\\core\\events.py:89: UserWarning: Glyph 51648 (\\N{HANGUL SYLLABLE JI}) missing from current font.\n",
      "  func(*args, **kwargs)\n",
      "C:\\Users\\guddk\\anaconda3\\lib\\site-packages\\IPython\\core\\events.py:89: UserWarning: Glyph 52636 (\\N{HANGUL SYLLABLE CUL}) missing from current font.\n",
      "  func(*args, **kwargs)\n",
      "C:\\Users\\guddk\\anaconda3\\lib\\site-packages\\IPython\\core\\pylabtools.py:152: UserWarning: Glyph 51648 (\\N{HANGUL SYLLABLE JI}) missing from current font.\n",
      "  fig.canvas.print_figure(bytes_io, **kw)\n",
      "C:\\Users\\guddk\\anaconda3\\lib\\site-packages\\IPython\\core\\pylabtools.py:152: UserWarning: Glyph 52636 (\\N{HANGUL SYLLABLE CUL}) missing from current font.\n",
      "  fig.canvas.print_figure(bytes_io, **kw)\n"
     ]
    },
    {
     "data": {
      "image/png": "[encoded data removed]",
      "text/plain": [
       "<Figure size 640x480 with 1 Axes>"
      ]
     },
     "metadata": {},
     "output_type": "display_data"
    }
   ],
   "source": [
    "df.plot.scatter(x='수입',y='지출')"
   ]
  },
  {
   "cell_type": "code",
   "execution_count": null,
   "id": "733b0142",
   "metadata": {},
   "outputs": [],
   "source": []
  },
  {
   "cell_type": "code",
   "execution_count": null,
   "id": "d4b1ac9a",
   "metadata": {},
   "outputs": [],
   "source": []
  },
  {
   "cell_type": "code",
   "execution_count": null,
   "id": "c6e19ed2",
   "metadata": {},
   "outputs": [],
   "source": []
  },
  {
   "cell_type": "markdown",
   "id": "484a9702",
   "metadata": {},
   "source": [
    "# 실습"
   ]
  },
  {
   "cell_type": "code",
   "execution_count": 49,
   "id": "7e230458",
   "metadata": {},
   "outputs": [],
   "source": [
    "import pandas as pd\n",
    "import numpy as np\n",
    "\n",
    "np.random.seed(0)\n",
    "\n",
    "# 총 데이터 수\n",
    "num_students = 10000\n",
    "\n",
    "df = pd.DataFrame(\n",
    "    {\n",
    "        \"나이\": np.random.randint(20, 30, size=num_students),\n",
    "        \"학년\": np.random.randint(1, 5, size=num_students),\n",
    "        \"학점\": np.round(np.random.uniform(0, 5.0, size=num_students), 2),\n",
    "    }\n",
    ")\n",
    "\n",
    "# 이상치 추가 수\n",
    "num_outliers = 500\n",
    "\n",
    "# 학점 열에 이상치 추가\n",
    "outlier_indices_gpa = np.random.choice(df.index, num_outliers, replace=False)\n",
    "\n",
    "df.loc[outlier_indices_gpa, \"학점\"] = np.round(\n",
    "    np.random.uniform(0.0, 10.0, size=num_outliers), 2\n",
    ")"
   ]
  },
  {
   "cell_type": "code",
   "execution_count": 50,
   "id": "3573c937",
   "metadata": {},
   "outputs": [
    {
     "data": {
      "text/plain": [
       "<Axes: >"
      ]
     },
     "execution_count": 50,
     "metadata": {},
     "output_type": "execute_result"
    },
    {
     "name": "stderr",
     "output_type": "stream",
     "text": [
      "C:\\Users\\guddk\\anaconda3\\lib\\site-packages\\IPython\\core\\events.py:89: UserWarning: Glyph 54617 (\\N{HANGUL SYLLABLE HAG}) missing from current font.\n",
      "  func(*args, **kwargs)\n",
      "C:\\Users\\guddk\\anaconda3\\lib\\site-packages\\IPython\\core\\events.py:89: UserWarning: Glyph 51216 (\\N{HANGUL SYLLABLE JEOM}) missing from current font.\n",
      "  func(*args, **kwargs)\n",
      "C:\\Users\\guddk\\anaconda3\\lib\\site-packages\\IPython\\core\\pylabtools.py:152: UserWarning: Glyph 54617 (\\N{HANGUL SYLLABLE HAG}) missing from current font.\n",
      "  fig.canvas.print_figure(bytes_io, **kw)\n",
      "C:\\Users\\guddk\\anaconda3\\lib\\site-packages\\IPython\\core\\pylabtools.py:152: UserWarning: Glyph 51216 (\\N{HANGUL SYLLABLE JEOM}) missing from current font.\n",
      "  fig.canvas.print_figure(bytes_io, **kw)\n"
     ]
    },
    {
     "data": {
      "image/png": "[encoded data removed]",
      "text/plain": [
       "<Figure size 640x480 with 1 Axes>"
      ]
     },
     "metadata": {},
     "output_type": "display_data"
    }
   ],
   "source": [
    "column = '학점'\n",
    "df[column].plot.box()"
   ]
  },
  {
   "cell_type": "code",
   "execution_count": 51,
   "id": "04b4c182",
   "metadata": {},
   "outputs": [
    {
     "data": {
      "text/plain": [
       "2.55"
      ]
     },
     "execution_count": 51,
     "metadata": {},
     "output_type": "execute_result"
    }
   ],
   "source": [
    "Q1 = df[column].quantile(0.25)\n",
    "Q3 = df[column].quantile(0.75)\n",
    "IQR = Q3 - Q1\n",
    "IQR"
   ]
  },
  {
   "cell_type": "code",
   "execution_count": 53,
   "id": "5858b97b",
   "metadata": {},
   "outputs": [
    {
     "data": {
      "text/plain": [
       "21      9.69\n",
       "154     9.56\n",
       "266     9.20\n",
       "271     9.27\n",
       "357     7.76\n",
       "        ... \n",
       "9215    7.77\n",
       "9484    8.65\n",
       "9545    8.70\n",
       "9958    8.81\n",
       "9994    9.74\n",
       "Name: 학점, Length: 106, dtype: float64"
      ]
     },
     "execution_count": 53,
     "metadata": {},
     "output_type": "execute_result"
    }
   ],
   "source": [
    "lower_bound = Q1 - 1.5 * IQR  \n",
    "upper_bound = Q3 + 1.5 * IQR  \n",
    "\n",
    "lower_bound_filter = df[column] < lower_bound  \n",
    "upper_bound_filter = df[column] > upper_bound  \n",
    "\n",
    "df.loc[lower_bound_filter | upper_bound_filter, column]\n"
   ]
  },
  {
   "cell_type": "code",
   "execution_count": 54,
   "id": "f36824d0",
   "metadata": {},
   "outputs": [],
   "source": [
    "df.loc[lower_bound_filter | upper_bound_filter, column] = df['학점'].mean()\n"
   ]
  },
  {
   "cell_type": "code",
   "execution_count": 57,
   "id": "39e6bfb4",
   "metadata": {},
   "outputs": [
    {
     "data": {
      "text/html": [
       "<div>\n",
       "<style scoped>\n",
       "    .dataframe tbody tr th:only-of-type {\n",
       "        vertical-align: middle;\n",
       "    }\n",
       "\n",
       "    .dataframe tbody tr th {\n",
       "        vertical-align: top;\n",
       "    }\n",
       "\n",
       "    .dataframe thead th {\n",
       "        text-align: right;\n",
       "    }\n",
       "</style>\n",
       "<table border=\"1\" class=\"dataframe\">\n",
       "  <thead>\n",
       "    <tr style=\"text-align: right;\">\n",
       "      <th></th>\n",
       "      <th>나이</th>\n",
       "      <th>학년</th>\n",
       "      <th>학점</th>\n",
       "    </tr>\n",
       "  </thead>\n",
       "  <tbody>\n",
       "    <tr>\n",
       "      <th>2</th>\n",
       "      <td>23</td>\n",
       "      <td>2</td>\n",
       "      <td>6.37</td>\n",
       "    </tr>\n",
       "    <tr>\n",
       "      <th>4</th>\n",
       "      <td>27</td>\n",
       "      <td>2</td>\n",
       "      <td>0.75</td>\n",
       "    </tr>\n",
       "    <tr>\n",
       "      <th>7</th>\n",
       "      <td>25</td>\n",
       "      <td>2</td>\n",
       "      <td>0.05</td>\n",
       "    </tr>\n",
       "    <tr>\n",
       "      <th>9</th>\n",
       "      <td>24</td>\n",
       "      <td>4</td>\n",
       "      <td>0.49</td>\n",
       "    </tr>\n",
       "    <tr>\n",
       "      <th>17</th>\n",
       "      <td>27</td>\n",
       "      <td>3</td>\n",
       "      <td>0.80</td>\n",
       "    </tr>\n",
       "    <tr>\n",
       "      <th>...</th>\n",
       "      <td>...</td>\n",
       "      <td>...</td>\n",
       "      <td>...</td>\n",
       "    </tr>\n",
       "    <tr>\n",
       "      <th>9985</th>\n",
       "      <td>21</td>\n",
       "      <td>1</td>\n",
       "      <td>4.85</td>\n",
       "    </tr>\n",
       "    <tr>\n",
       "      <th>9987</th>\n",
       "      <td>26</td>\n",
       "      <td>2</td>\n",
       "      <td>4.90</td>\n",
       "    </tr>\n",
       "    <tr>\n",
       "      <th>9993</th>\n",
       "      <td>24</td>\n",
       "      <td>3</td>\n",
       "      <td>0.29</td>\n",
       "    </tr>\n",
       "    <tr>\n",
       "      <th>9995</th>\n",
       "      <td>22</td>\n",
       "      <td>4</td>\n",
       "      <td>4.56</td>\n",
       "    </tr>\n",
       "    <tr>\n",
       "      <th>9998</th>\n",
       "      <td>28</td>\n",
       "      <td>1</td>\n",
       "      <td>0.24</td>\n",
       "    </tr>\n",
       "  </tbody>\n",
       "</table>\n",
       "<p>3043 rows × 3 columns</p>\n",
       "</div>"
      ],
      "text/plain": [
       "      나이  학년    학점\n",
       "2     23   2  6.37\n",
       "4     27   2  0.75\n",
       "7     25   2  0.05\n",
       "9     24   4  0.49\n",
       "17    27   3  0.80\n",
       "...   ..  ..   ...\n",
       "9985  21   1  4.85\n",
       "9987  26   2  4.90\n",
       "9993  24   3  0.29\n",
       "9995  22   4  4.56\n",
       "9998  28   1  0.24\n",
       "\n",
       "[3043 rows x 3 columns]"
      ]
     },
     "execution_count": 57,
     "metadata": {},
     "output_type": "execute_result"
    }
   ],
   "source": [
    "condition1 = df['학점'] > 4.5\n",
    "condition2 = df['학점'] < 1.0\n",
    "\n",
    "df.loc[condition1 | condition2]"
   ]
  },
  {
   "cell_type": "code",
   "execution_count": null,
   "id": "70d8ecb9",
   "metadata": {},
   "outputs": [],
   "source": []
  }
 ],
 "metadata": {
  "kernelspec": {
   "display_name": "Python 3 (ipykernel)",
   "language": "python",
   "name": "python3"
  },
  "language_info": {
   "codemirror_mode": {
    "name": "ipython",
    "version": 3
   },
   "file_extension": ".py",
   "mimetype": "text/x-python",
   "name": "python",
   "nbconvert_exporter": "python",
   "pygments_lexer": "ipython3",
   "version": "3.10.9"
  }
 },
 "nbformat": 4,
 "nbformat_minor": 5
}
